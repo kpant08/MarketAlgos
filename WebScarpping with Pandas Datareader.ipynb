{
 "cells": [
  {
   "cell_type": "code",
   "execution_count": 41,
   "metadata": {},
   "outputs": [],
   "source": [
    "#!pip install lxml\n",
    "import pandas as pd\n",
    "from datetime import datetime,date, timedelta\n",
    "import pandas_datareader as pdr"
   ]
  },
  {
   "cell_type": "code",
   "execution_count": 115,
   "metadata": {},
   "outputs": [],
   "source": [
    "#Getting the file from Arbitrage Insiders\n",
    "def get_sells():   \n",
    "    df = pd.read_html(\"https://www.insidearbitrage.com/insider-sales/?desk=yes\")\n",
    "    df = df[2]\n",
    "    df.columns = df.iloc[0]\n",
    "    df = df.drop(index=df.index[0], axis=0)\n",
    "    df.to_csv(\"insider.csv\")\n",
    "    return df\n",
    "get_sells()\n",
    "df = pd.read_csv('Insider.csv',index_col = 0)"
   ]
  },
  {
   "cell_type": "code",
   "execution_count": 118,
   "metadata": {},
   "outputs": [],
   "source": [
    "#Get the last price and 100 Moving Average from Yahoo\n",
    "def getinfo(ticker, n=100):\n",
    "    try:\n",
    "        tickerdf = pdr.get_data_yahoo(ticker, start = date.today() - timedelta(300), end=date.today())\n",
    "        currentprice = round(tickerdf.iloc[-1]['Close'],2)\n",
    "        MA = pd.Series(tickerdf['Close'].rolling(n, min_periods=0).mean(), name='MA')\n",
    "        currentma = MA[-1]\n",
    "        #print(f\"data gathered for {ticker}\")\n",
    "        return (currentprice,currentma)\n",
    "    except:\n",
    "        return('na', 'na')"
   ]
  },
  {
   "cell_type": "code",
   "execution_count": 119,
   "metadata": {},
   "outputs": [],
   "source": [
    "infoDict = {}\n",
    "numperiods = 180\n",
    "def getPrice(row):\n",
    "    ticker = row['Symbol']\n",
    "    if ticker not in infoDict.keys():\n",
    "        tickerinfo = getinfo(ticker,numperiods)\n",
    "        infoDict[ticker] = {}\n",
    "        infoDict[ticker][\"price\"] = tickerinfo[0]\n",
    "        infoDict[ticker][\"ma\"] = tickerinfo[1]\n",
    "        return infoDict[ticker][\"price\"]\n",
    "    else:\n",
    "        return infoDict[ticker][\"price\"]"
   ]
  },
  {
   "cell_type": "code",
   "execution_count": 120,
   "metadata": {},
   "outputs": [
    {
     "name": "stdout",
     "output_type": "stream",
     "text": [
      "Prices gathered\n",
      "movingaverages gathered\n"
     ]
    }
   ],
   "source": [
    "def getMovingAverage(row):\n",
    "    ticker = row['Symbol']\n",
    "    return infoDict[ticker][\"ma\"]\n",
    "\n",
    "df['currentprice'] = df.apply (lambda row: getPrice(row), axis=1)\n",
    "print(\"Prices gathered\")\n",
    "df['movingaverage'] = df.apply (lambda row: getMovingAverage(row), axis=1) \n",
    "print(\"movingaverages gathered\")\n",
    "df.to_csv('InsiderPrices.csv')"
   ]
  },
  {
   "cell_type": "code",
   "execution_count": 1,
   "metadata": {},
   "outputs": [
    {
     "data": {
      "text/plain": [
       "'C:\\\\Users\\\\mike\\\\Desktop\\\\python projects\\\\stocks_trading'"
      ]
     },
     "execution_count": 1,
     "metadata": {},
     "output_type": "execute_result"
    }
   ],
   "source": [
    "pwd"
   ]
  },
  {
   "cell_type": "code",
   "execution_count": null,
   "metadata": {},
   "outputs": [],
   "source": []
  }
 ],
 "metadata": {
  "kernelspec": {
   "display_name": "Python 3",
   "language": "python",
   "name": "python3"
  },
  "language_info": {
   "codemirror_mode": {
    "name": "ipython",
    "version": 3
   },
   "file_extension": ".py",
   "mimetype": "text/x-python",
   "name": "python",
   "nbconvert_exporter": "python",
   "pygments_lexer": "ipython3",
   "version": "3.7.4"
  }
 },
 "nbformat": 4,
 "nbformat_minor": 2
}
